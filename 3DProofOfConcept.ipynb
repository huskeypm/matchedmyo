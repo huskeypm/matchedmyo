{
 "cells": [
  {
   "cell_type": "markdown",
   "metadata": {},
   "source": [
    "This notebook is for simulating the transverse tubule structure of a full cell and running the 3D detection routine on the generated cell"
   ]
  },
  {
   "cell_type": "code",
   "execution_count": 12,
   "metadata": {},
   "outputs": [
    {
     "name": "stdout",
     "output_type": "stream",
     "text": [
      "Tensorflow was not found on this computer. Routines with GPU implementation will not work.\n",
      "Tensorflow was not found on this computer. Routines with GPU implementation will not work.\n"
     ]
    },
    {
     "name": "stderr",
     "output_type": "stream",
     "text": [
      "/home/u1/dfco222/scratch/matchedmyo/gpu/simple_GPU_MF.py:19: UserWarning: \n",
      "This call to matplotlib.use() has no effect because the backend has already\n",
      "been chosen; matplotlib.use() must be called *before* pylab, matplotlib.pyplot,\n",
      "or matplotlib.backends is imported for the first time.\n",
      "\n",
      "The backend was *originally* set to 'module://ipykernel.pylab.backend_inline' by the following code:\n",
      "  File \"/usr/lib/python2.7/runpy.py\", line 174, in _run_module_as_main\n",
      "    \"__main__\", fname, loader, pkg_name)\n",
      "  File \"/usr/lib/python2.7/runpy.py\", line 72, in _run_code\n",
      "    exec code in run_globals\n",
      "  File \"/home/AD/dfco222/.local/lib/python2.7/site-packages/ipykernel_launcher.py\", line 16, in <module>\n",
      "    app.launch_new_instance()\n",
      "  File \"/home/AD/dfco222/.local/lib/python2.7/site-packages/traitlets/config/application.py\", line 658, in launch_instance\n",
      "    app.start()\n",
      "  File \"/home/AD/dfco222/.local/lib/python2.7/site-packages/ipykernel/kernelapp.py\", line 497, in start\n",
      "    self.io_loop.start()\n",
      "  File \"/home/AD/dfco222/.local/lib/python2.7/site-packages/tornado/ioloop.py\", line 1073, in start\n",
      "    handler_func(fd_obj, events)\n",
      "  File \"/home/AD/dfco222/.local/lib/python2.7/site-packages/tornado/stack_context.py\", line 300, in null_wrapper\n",
      "    return fn(*args, **kwargs)\n",
      "  File \"/home/AD/dfco222/.local/lib/python2.7/site-packages/zmq/eventloop/zmqstream.py\", line 450, in _handle_events\n",
      "    self._handle_recv()\n",
      "  File \"/home/AD/dfco222/.local/lib/python2.7/site-packages/zmq/eventloop/zmqstream.py\", line 480, in _handle_recv\n",
      "    self._run_callback(callback, msg)\n",
      "  File \"/home/AD/dfco222/.local/lib/python2.7/site-packages/zmq/eventloop/zmqstream.py\", line 432, in _run_callback\n",
      "    callback(*args, **kwargs)\n",
      "  File \"/home/AD/dfco222/.local/lib/python2.7/site-packages/tornado/stack_context.py\", line 300, in null_wrapper\n",
      "    return fn(*args, **kwargs)\n",
      "  File \"/home/AD/dfco222/.local/lib/python2.7/site-packages/ipykernel/kernelbase.py\", line 283, in dispatcher\n",
      "    return self.dispatch_shell(stream, msg)\n",
      "  File \"/home/AD/dfco222/.local/lib/python2.7/site-packages/ipykernel/kernelbase.py\", line 233, in dispatch_shell\n",
      "    handler(stream, idents, msg)\n",
      "  File \"/home/AD/dfco222/.local/lib/python2.7/site-packages/ipykernel/kernelbase.py\", line 399, in execute_request\n",
      "    user_expressions, allow_stdin)\n",
      "  File \"/home/AD/dfco222/.local/lib/python2.7/site-packages/ipykernel/ipkernel.py\", line 208, in do_execute\n",
      "    res = shell.run_cell(code, store_history=store_history, silent=silent)\n",
      "  File \"/home/AD/dfco222/.local/lib/python2.7/site-packages/ipykernel/zmqshell.py\", line 537, in run_cell\n",
      "    return super(ZMQInteractiveShell, self).run_cell(*args, **kwargs)\n",
      "  File \"/home/AD/dfco222/.local/lib/python2.7/site-packages/IPython/core/interactiveshell.py\", line 2724, in run_cell\n",
      "    self.events.trigger('post_run_cell')\n",
      "  File \"/home/AD/dfco222/.local/lib/python2.7/site-packages/IPython/core/events.py\", line 74, in trigger\n",
      "    func(*args, **kwargs)\n",
      "  File \"/home/AD/dfco222/.local/lib/python2.7/site-packages/ipykernel/pylab/backend_inline.py\", line 164, in configure_once\n",
      "    activate_matplotlib(backend)\n",
      "  File \"/home/AD/dfco222/.local/lib/python2.7/site-packages/IPython/core/pylabtools.py\", line 315, in activate_matplotlib\n",
      "    matplotlib.pyplot.switch_backend(backend)\n",
      "  File \"/home/AD/dfco222/.local/lib/python2.7/site-packages/matplotlib/pyplot.py\", line 231, in switch_backend\n",
      "    matplotlib.use(newbackend, warn=False, force=True)\n",
      "  File \"/home/AD/dfco222/.local/lib/python2.7/site-packages/matplotlib/__init__.py\", line 1422, in use\n",
      "    reload(sys.modules['matplotlib.backends'])\n",
      "  File \"/home/AD/dfco222/.local/lib/python2.7/site-packages/matplotlib/backends/__init__.py\", line 16, in <module>\n",
      "    line for line in traceback.format_stack()\n",
      "\n",
      "\n",
      "  matplotlib.use('Agg')\n"
     ]
    },
    {
     "name": "stdout",
     "output_type": "stream",
     "text": [
      "Comment out for HESSE\n",
      "The autoreload extension is already loaded. To reload it, use:\n",
      "  %reload_ext autoreload\n"
     ]
    }
   ],
   "source": [
    "import util\n",
    "import myocyteFigs as mF\n",
    "%load_ext autoreload\n",
    "%autoreload 2"
   ]
  },
  {
   "cell_type": "markdown",
   "metadata": {},
   "source": [
    "### Define Parameters for the Simulated Cell"
   ]
  },
  {
   "cell_type": "code",
   "execution_count": 26,
   "metadata": {},
   "outputs": [],
   "source": [
    "## Probability of finding a longitudinal tubule unit cell\n",
    "ltProb = 0.3\n",
    "\n",
    "## Probability of finding a tubule absence unit cell\n",
    "taProb = 0.3\n",
    "\n",
    "## Amplitude of the Guassian White Noise\n",
    "noiseAmplitude = 0.\n",
    "\n",
    "## Define scope resolutions for generating the filters and the cell. This is in x, y, and z resolutions\n",
    "scopeResolutions = [10,10,5] #[vx / um]\n",
    "\n",
    "## x, y, and z Dimensions of the simulated cell [microns]\n",
    "cellDimensions = [40, 80, 40]\n",
    "\n",
    "## Define test file name\n",
    "testName = \"simulated3DData_LT{}_TA{}.tif\".format(ltProb,taProb)\n",
    "\n",
    "## Define output name for classification results\n",
    "outputName = \"simulated3DData_LT{}_TA{}_analysis\".format(ltProb,taProb)\n",
    "\n",
    "## Give names for your filters. NOTE: These are hardcoded in the filter generation routines in util.py\n",
    "ttName = './myoimages/TT_3D.tif'\n",
    "ttPunishName = './myoimages/TT_Punishment_3D.tif'\n",
    "ltName = './myoimages/LT_3D.tif'\n",
    "taName = './myoimages/TA_3D.tif'\n",
    "\n",
    "## denote if you would like to reconstruct everything from scratch or just run the classification\n",
    "freshRun = False"
   ]
  },
  {
   "cell_type": "markdown",
   "metadata": {},
   "source": [
    "### Generate the Filters"
   ]
  },
  {
   "cell_type": "code",
   "execution_count": 22,
   "metadata": {},
   "outputs": [],
   "source": [
    "if freshRun:\n",
    "    util.generate3DTTFilter(scopeResolutions = scopeResolutions)\n",
    "    util.generate3DLTFilter(scopeResolutions = scopeResolutions)\n",
    "    util.generate3DTAFilter(scopeResolutions = scopeResolutions)"
   ]
  },
  {
   "cell_type": "markdown",
   "metadata": {},
   "source": [
    "### Generate the 3D Cell"
   ]
  },
  {
   "cell_type": "code",
   "execution_count": 23,
   "metadata": {},
   "outputs": [],
   "source": [
    "if freshRun:\n",
    "    util.generateSimulated3DCell(LT_probability=ltProb,\n",
    "                                 TA_probability=taProb,\n",
    "                                 fileName=testName,\n",
    "                                 noiseAmplitude = noiseAmplitude,\n",
    "                                 cellDimensions=cellDimensions)"
   ]
  },
  {
   "cell_type": "markdown",
   "metadata": {},
   "source": [
    "### Now We Characterize That Cell"
   ]
  },
  {
   "cell_type": "code",
   "execution_count": 42,
   "metadata": {},
   "outputs": [
    {
     "name": "stdout",
     "output_type": "stream",
     "text": [
      "Comment out for HESSE\n",
      "TT Filtering\n",
      "Time for WT filtering to complete: 3.77916717529 seconds\n",
      "LT filtering\n",
      "Time for LT filtering to complete: 6.95564508438 seconds\n",
      "TA filtering\n",
      "Time for TA filtering to complete: 20.7440690994 seconds\n",
      "Warning: Shifting TA hits down one index in the z domain to make consistent hit detection.\n",
      "Warning: Shifting LT hits down one index in the z domain to make consistent hit detection.\n",
      "TA Content: 0.439446338384\n",
      "LT Content: 0.0556313131313\n",
      "TT Content: 0.30628582702\n",
      "Wrote file to: simulated3DData_LT0.3_TA0.3_analysis.tif\n",
      "Time for algorithm to run: 35.9936490059 seconds\n"
     ]
    }
   ],
   "source": [
    "detection_3D = mF.give3DMarkedMyocyte(testImage=testName,\n",
    "                                      scopeResolutions = scopeResolutions,\n",
    "                                      ttFilterName = ttName,\n",
    "                                      ttPunishFilterName = ttPunishName,\n",
    "                                      ltFilterName = ltName,\n",
    "                                      taFilterName = taName,\n",
    "                                      #ttThresh = 0.8,\n",
    "                                      #ltStdThresh = 1.,\n",
    "                                      #ltThresh = 0.9,\n",
    "                                      #lossStdThresh = 0.5,\n",
    "                                      tag = outputName,\n",
    "                                      xiters = [0],\n",
    "                                      yiters = [0],\n",
    "                                      ziters = [0],\n",
    "                                     )"
   ]
  }
 ],
 "metadata": {
  "kernelspec": {
   "display_name": "Python 2",
   "language": "python",
   "name": "python2"
  },
  "language_info": {
   "codemirror_mode": {
    "name": "ipython",
    "version": 2
   },
   "file_extension": ".py",
   "mimetype": "text/x-python",
   "name": "python",
   "nbconvert_exporter": "python",
   "pygments_lexer": "ipython2",
   "version": "2.7.15rc1"
  }
 },
 "nbformat": 4,
 "nbformat_minor": 2
}
