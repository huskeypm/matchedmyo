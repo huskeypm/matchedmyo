{
 "cells": [
  {
   "cell_type": "markdown",
   "metadata": {},
   "source": [
    "This notebook is for simulating the transverse tubule structure of a full cell and running the 3D detection routine on the generated cell"
   ]
  },
  {
   "cell_type": "code",
   "execution_count": 12,
   "metadata": {},
   "outputs": [
    {
     "name": "stdout",
     "output_type": "stream",
     "text": [
      "The autoreload extension is already loaded. To reload it, use:\n",
      "  %reload_ext autoreload\n"
     ]
    }
   ],
   "source": [
    "import util\n",
    "%load_ext autoreload\n",
    "%autoreload 2"
   ]
  },
  {
   "cell_type": "markdown",
   "metadata": {},
   "source": [
    "### Define Parameters for the Simulated Cell"
   ]
  },
  {
   "cell_type": "code",
   "execution_count": 13,
   "metadata": {},
   "outputs": [],
   "source": [
    "## Probability of finding a longitudinal tubule unit cell\n",
    "ltProb = 0.3\n",
    "## Probability of finding a tubule absence unit cell\n",
    "taProb = 0.3\n",
    "## Amplitude of the Guassian White Noise\n",
    "noiseAmplitude = 0.\n",
    "## x, y, and z Dimensions of the simulated cell [microns]\n",
    "cellDimensions = [40, 80, 40]"
   ]
  },
  {
   "cell_type": "markdown",
   "metadata": {},
   "source": [
    "### Generate the 3D Cell"
   ]
  },
  {
   "cell_type": "code",
   "execution_count": 14,
   "metadata": {},
   "outputs": [
    {
     "name": "stdout",
     "output_type": "stream",
     "text": [
      "Final truncated cell size in 0 dimension: 40.0 [um]\n",
      "Number of unit cells in 0 dimension: 20\n",
      "Final truncated cell size in 1 dimension: 79.2 [um]\n",
      "Number of unit cells in 1 dimension: 33\n",
      "Final truncated cell size in 2 dimension: 40.0 [um]\n",
      "Number of unit cells in 2 dimension: 16\n",
      "Total number of unit cells: 10560\n",
      "Saving unit cells\n",
      "Wrote file to: ./myoimages/TTcell.tif\n",
      "Wrote file to: ./myoimages/LTcell.tif\n",
      "Wrote: simulated3DData_LT0.3_TA0.3.tif\n"
     ]
    }
   ],
   "source": [
    "util.generateSimulated3DCell(LT_probability=ltProb,\n",
    "                             TA_probability=taProb,\n",
    "                             fileName=\"simulated3DData_LT{}_TA{}.tif\".format(ltProb,taProb),\n",
    "                             noiseAmplitude = noiseAmplitude,\n",
    "                             cellDimensions=cellDimensions)"
   ]
  },
  {
   "cell_type": "code",
   "execution_count": null,
   "metadata": {},
   "outputs": [],
   "source": []
  }
 ],
 "metadata": {
  "kernelspec": {
   "display_name": "Python 2",
   "language": "python",
   "name": "python2"
  },
  "language_info": {
   "codemirror_mode": {
    "name": "ipython",
    "version": 2
   },
   "file_extension": ".py",
   "mimetype": "text/x-python",
   "name": "python",
   "nbconvert_exporter": "python",
   "pygments_lexer": "ipython2",
   "version": "2.7.15rc1"
  }
 },
 "nbformat": 4,
 "nbformat_minor": 2
}
