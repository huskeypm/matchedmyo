{
 "metadata": {
  "name": "",
  "signature": "sha256:298658b690ee4e669ef21d1ef16ab19c46ba012eae302c33c1242c505372fd44"
 },
 "nbformat": 3,
 "nbformat_minor": 0,
 "worksheets": [
  {
   "cells": [
    {
     "cell_type": "markdown",
     "metadata": {},
     "source": [
      "Notebook to conduct the bootstrapping and analysis for the distal and proximal sections"
     ]
    },
    {
     "cell_type": "code",
     "collapsed": false,
     "input": [
      "import os\n",
      "import numpy as np\n",
      "import matplotlib.pyplot as plt\n",
      "import pickle \n",
      "import cv2\n",
      "from random import randint\n",
      "%load_ext autoreload\n",
      "%autoreload 2\n",
      "import painter\n",
      "import display_util as du\n",
      "import myocyteFigs as mF\n",
      "import util\n"
     ],
     "language": "python",
     "metadata": {},
     "outputs": [
      {
       "output_type": "stream",
       "stream": "stdout",
       "text": [
        "Comment out for HESSE\n"
       ]
      },
      {
       "output_type": "stream",
       "stream": "stderr",
       "text": [
        "/usr/lib/python2.7/dist-packages/matplotlib/__init__.py:1352: UserWarning:  This call to matplotlib.use() has no effect\n",
        "because the backend has already been chosen;\n",
        "matplotlib.use() must be called *before* pylab, matplotlib.pyplot,\n",
        "or matplotlib.backends is imported for the first time.\n",
        "\n",
        "  warnings.warn(_use_error_msg)\n"
       ]
      }
     ],
     "prompt_number": 1
    },
    {
     "cell_type": "markdown",
     "metadata": {},
     "source": [
      "### Arguments"
     ]
    },
    {
     "cell_type": "code",
     "collapsed": false,
     "input": [
      "runNewBootstraps = False"
     ],
     "language": "python",
     "metadata": {},
     "outputs": [],
     "prompt_number": 2
    },
    {
     "cell_type": "markdown",
     "metadata": {},
     "source": [
      "### Load in images"
     ]
    },
    {
     "cell_type": "code",
     "collapsed": false,
     "input": [
      "distalImgs = {}\n",
      "proximalImgs = {}\n",
      "\n",
      "with open('./infarctedTissue_distalNames.pkl','r') as blah:\n",
      "        distalNames = pickle.load(blah)\n",
      "with open('./infarctedTissue_proximalNames.pkl','r') as blah:\n",
      "        proximalNames = pickle.load(blah)\n",
      "\n",
      "for name in distalNames:\n",
      "    print \"Loaded:\",name\n",
      "    distalImgs[name] = cv2.cvtColor(cv2.imread(name),cv2.COLOR_BGR2GRAY).astype(np.float32) / 255.\n",
      "\n",
      "for name in proximalNames:\n",
      "    print \"Loaded:\",name\n",
      "    proximalImgs[name] = cv2.cvtColor(cv2.imread(name),cv2.COLOR_BGR2GRAY).astype(np.float32) / 255.\n",
      "    \n",
      "allNames = distalNames + proximalNames"
     ],
     "language": "python",
     "metadata": {},
     "outputs": [
      {
       "output_type": "stream",
       "stream": "stdout",
       "text": [
        "Loaded: infarctTissue_distal_row0_col10000.png\n",
        "Loaded:"
       ]
      },
      {
       "output_type": "stream",
       "stream": "stdout",
       "text": [
        " infarctTissue_distal_row0_col12000.png\n",
        "Loaded:"
       ]
      },
      {
       "output_type": "stream",
       "stream": "stdout",
       "text": [
        " infarctTissue_distal_row0_col16000.png\n",
        "Loaded:"
       ]
      },
      {
       "output_type": "stream",
       "stream": "stdout",
       "text": [
        " infarctTissue_distal_row0_col18000.png\n",
        "Loaded:"
       ]
      },
      {
       "output_type": "stream",
       "stream": "stdout",
       "text": [
        " infarctTissue_distal_row0_col20000.png\n",
        "Loaded:"
       ]
      },
      {
       "output_type": "stream",
       "stream": "stdout",
       "text": [
        " infarctTissue_distal_row2000_col6000.png\n",
        "Loaded:"
       ]
      },
      {
       "output_type": "stream",
       "stream": "stdout",
       "text": [
        " infarctTissue_distal_row2000_col8000.png\n",
        "Loaded:"
       ]
      },
      {
       "output_type": "stream",
       "stream": "stdout",
       "text": [
        " infarctTissue_distal_row2000_col10000.png\n",
        "Loaded:"
       ]
      },
      {
       "output_type": "stream",
       "stream": "stdout",
       "text": [
        " infarctTissue_distal_row2000_col14000.png\n",
        "Loaded:"
       ]
      },
      {
       "output_type": "stream",
       "stream": "stdout",
       "text": [
        " infarctTissue_distal_row2000_col18000.png\n",
        "Loaded:"
       ]
      },
      {
       "output_type": "stream",
       "stream": "stdout",
       "text": [
        " infarctTissue_distal_row2000_col20000.png\n",
        "Loaded:"
       ]
      },
      {
       "output_type": "stream",
       "stream": "stdout",
       "text": [
        " infarctTissue_distal_row4000_col2000.png\n",
        "Loaded:"
       ]
      },
      {
       "output_type": "stream",
       "stream": "stdout",
       "text": [
        " infarctTissue_distal_row4000_col4000.png\n",
        "Loaded:"
       ]
      },
      {
       "output_type": "stream",
       "stream": "stdout",
       "text": [
        " infarctTissue_distal_row4000_col6000.png\n",
        "Loaded:"
       ]
      },
      {
       "output_type": "stream",
       "stream": "stdout",
       "text": [
        " infarctTissue_distal_row4000_col8000.png\n",
        "Loaded:"
       ]
      },
      {
       "output_type": "stream",
       "stream": "stdout",
       "text": [
        " infarctTissue_distal_row4000_col14000.png\n",
        "Loaded:"
       ]
      },
      {
       "output_type": "stream",
       "stream": "stdout",
       "text": [
        " infarctTissue_distal_row4000_col18000.png\n",
        "Loaded:"
       ]
      },
      {
       "output_type": "stream",
       "stream": "stdout",
       "text": [
        " infarctTissue_distal_row4000_col20000.png\n",
        "Loaded:"
       ]
      },
      {
       "output_type": "stream",
       "stream": "stdout",
       "text": [
        " infarctTissue_proximal_row14000_col10000.png\n",
        "Loaded:"
       ]
      },
      {
       "output_type": "stream",
       "stream": "stdout",
       "text": [
        " infarctTissue_proximal_row14000_col12000.png\n",
        "Loaded:"
       ]
      },
      {
       "output_type": "stream",
       "stream": "stdout",
       "text": [
        " infarctTissue_proximal_row14000_col14000.png\n",
        "Loaded:"
       ]
      },
      {
       "output_type": "stream",
       "stream": "stdout",
       "text": [
        " infarctTissue_proximal_row14000_col16000.png\n",
        "Loaded:"
       ]
      },
      {
       "output_type": "stream",
       "stream": "stdout",
       "text": [
        " infarctTissue_proximal_row14000_col18000.png\n",
        "Loaded:"
       ]
      },
      {
       "output_type": "stream",
       "stream": "stdout",
       "text": [
        " infarctTissue_proximal_row14000_col20000.png\n",
        "Loaded:"
       ]
      },
      {
       "output_type": "stream",
       "stream": "stdout",
       "text": [
        " infarctTissue_proximal_row16000_col8000.png\n",
        "Loaded:"
       ]
      },
      {
       "output_type": "stream",
       "stream": "stdout",
       "text": [
        " infarctTissue_proximal_row16000_col10000.png\n",
        "Loaded:"
       ]
      },
      {
       "output_type": "stream",
       "stream": "stdout",
       "text": [
        " infarctTissue_proximal_row16000_col12000.png\n",
        "Loaded:"
       ]
      },
      {
       "output_type": "stream",
       "stream": "stdout",
       "text": [
        " infarctTissue_proximal_row16000_col14000.png\n",
        "Loaded:"
       ]
      },
      {
       "output_type": "stream",
       "stream": "stdout",
       "text": [
        " infarctTissue_proximal_row16000_col16000.png\n",
        "Loaded:"
       ]
      },
      {
       "output_type": "stream",
       "stream": "stdout",
       "text": [
        " infarctTissue_proximal_row16000_col18000.png\n",
        "Loaded:"
       ]
      },
      {
       "output_type": "stream",
       "stream": "stdout",
       "text": [
        " infarctTissue_proximal_row16000_col20000.png\n",
        "Loaded:"
       ]
      },
      {
       "output_type": "stream",
       "stream": "stdout",
       "text": [
        " infarctTissue_proximal_row18000_col8000.png\n",
        "Loaded:"
       ]
      },
      {
       "output_type": "stream",
       "stream": "stdout",
       "text": [
        " infarctTissue_proximal_row18000_col10000.png\n",
        "Loaded:"
       ]
      },
      {
       "output_type": "stream",
       "stream": "stdout",
       "text": [
        " infarctTissue_proximal_row18000_col12000.png\n",
        "Loaded:"
       ]
      },
      {
       "output_type": "stream",
       "stream": "stdout",
       "text": [
        " infarctTissue_proximal_row18000_col14000.png\n",
        "Loaded:"
       ]
      },
      {
       "output_type": "stream",
       "stream": "stdout",
       "text": [
        " infarctTissue_proximal_row18000_col16000.png\n"
       ]
      }
     ],
     "prompt_number": 3
    },
    {
     "cell_type": "markdown",
     "metadata": {},
     "source": [
      "### Load in orientation of each image"
     ]
    },
    {
     "cell_type": "code",
     "collapsed": false,
     "input": [
      "with open('infarctedTissue_OrientationDictionary.pkl','r') as blah:\n",
      "    orientationDict = pickle.load(blah)"
     ],
     "language": "python",
     "metadata": {},
     "outputs": [],
     "prompt_number": 4
    },
    {
     "cell_type": "markdown",
     "metadata": {},
     "source": [
      "### Create a bootstrapper function"
     ]
    },
    {
     "cell_type": "code",
     "collapsed": false,
     "input": [
      "originalImgDims = np.asarray([2000,2000])\n",
      "bootstrapImgDims = originalImgDims\n",
      "subImgDims = np.asarray([400,400])\n",
      "\n",
      "def makeBootstrapImg(originalImgDims,\n",
      "                     subImgDims,\n",
      "                     bootstrapImgDims,\n",
      "                     imgDict,\n",
      "                     verbose=False\n",
      "                     ):\n",
      "    ### All images are same size, so we can take advantage of this by using the same indexing for all images\n",
      "    subDiv = bootstrapImgDims/subImgDims\n",
      "\n",
      "    ### Determine images we'll randomly sample\n",
      "    nRandomDraws = np.prod(subDiv)\n",
      "    randImgIdxs = np.asarray( [randint(0,len(imgDict)-1) for p in range(0,nRandomDraws)],dtype=int)\n",
      "    imgNames = imgDict.keys()\n",
      "    randImgs = [ imgNames[idx] for idx in randImgIdxs]\n",
      "    \n",
      "    ### Determine the coordinates within the image we'll randomly sample\n",
      "    indexExtent = originalImgDims / subImgDims\n",
      "    rand_row_coords = np.asarray( [subImgDims[0] * randint(0,indexExtent[0]-1) for p in range(nRandomDraws)],dtype=int)\n",
      "    rand_col_coords = np.asarray( [subImgDims[1] * randint(0,indexExtent[1]-1) for p in range(nRandomDraws)],dtype=int)\n",
      "    \n",
      "    if verbose:\n",
      "        print \"Random Image Indexes\",randImgIdxs\n",
      "        print \"Random Row Coordinates\", rand_row_coords\n",
      "        print \"Random Col Coordinates\",rand_col_coords\n",
      "    \n",
      "    ### We're making a list as our bootstrap image to avoid edge discontinuities\n",
      "    bootstrapImg = []\n",
      "    ctr=0 \n",
      "    while ctr < nRandomDraws:\n",
      "        bootstrapImg.append(imgDict[randImgs[ctr]][rand_row_coords[ctr]:rand_row_coords[ctr]+subImgDims[0],\n",
      "                                                   rand_col_coords[ctr]:rand_col_coords[ctr]+subImgDims[1]])\n",
      "        \n",
      "        ctr += 1\n",
      "        \n",
      "    return bootstrapImg, randImgs       "
     ],
     "language": "python",
     "metadata": {},
     "outputs": [],
     "prompt_number": 5
    },
    {
     "cell_type": "code",
     "collapsed": false,
     "input": [
      "sampleBootstrapImg, bootstrapNames = makeBootstrapImg(originalImgDims,subImgDims,bootstrapImgDims,distalImgs,verbose=True)\n",
      "print \"\\n Length of bootstrap image:\",len(sampleBootstrapImg)\n",
      "\n",
      "print \"\\n Bootstrap Names:\",bootstrapNames\n",
      "\n",
      "plt.figure()\n",
      "plt.imshow(sampleBootstrapImg[10],cmap='gray')\n",
      "plt.title(\"Random Sample of Bootstrap Image\")\n",
      "plt.show()"
     ],
     "language": "python",
     "metadata": {},
     "outputs": [
      {
       "output_type": "stream",
       "stream": "stdout",
       "text": [
        "Random Image Indexes [ 2  2 12  7 15 12  6  8 11 10  8  1  7  8 12  6  0 14  5  9 14  3 17 16  3]\n",
        "Random Row Coordinates [ 800 1600  800 1200 1200  400    0 1200  400 1600  400  400  400  800  800\n",
        "    0 1600 1600  800  400  800 1200    0 1200  800]\n",
        "Random Col Coordinates [1200  400    0 1600  400    0 1600  400 1200  400  800    0  800    0    0\n",
        " 1600  800 1200  800  400  400  400 1600 1200  800]\n",
        "\n",
        " Length of bootstrap image: 25\n",
        "\n",
        " Bootstrap Names: ['infarctTissue_distal_row0_col10000.png', 'infarctTissue_distal_row0_col10000.png', 'infarctTissue_distal_row2000_col18000.png', 'infarctTissue_distal_row4000_col20000.png', 'infarctTissue_distal_row2000_col6000.png', 'infarctTissue_distal_row2000_col18000.png', 'infarctTissue_distal_row0_col18000.png', 'infarctTissue_distal_row0_col12000.png', 'infarctTissue_distal_row2000_col14000.png', 'infarctTissue_distal_row4000_col4000.png', 'infarctTissue_distal_row0_col12000.png', 'infarctTissue_distal_row2000_col10000.png', 'infarctTissue_distal_row4000_col20000.png', 'infarctTissue_distal_row0_col12000.png', 'infarctTissue_distal_row2000_col18000.png', 'infarctTissue_distal_row0_col18000.png', 'infarctTissue_distal_row0_col16000.png', 'infarctTissue_distal_row2000_col20000.png', 'infarctTissue_distal_row2000_col8000.png', 'infarctTissue_distal_row4000_col14000.png', 'infarctTissue_distal_row2000_col20000.png', 'infarctTissue_distal_row4000_col6000.png', 'infarctTissue_distal_row4000_col8000.png', 'infarctTissue_distal_row4000_col2000.png', 'infarctTissue_distal_row4000_col6000.png']\n"
       ]
      },
      {
       "output_type": "stream",
       "stream": "stderr",
       "text": [
        "/usr/lib/python2.7/dist-packages/matplotlib/figure.py:1744: UserWarning: This figure includes Axes that are not compatible with tight_layout, so its results might be incorrect.\n",
        "  warnings.warn(\"This figure includes Axes that are not \"\n"
       ]
      },
      {
       "metadata": {},
       "output_type": "display_data",
       "png": "[encoded data removed]",
       "text": [
        "<matplotlib.figure.Figure at 0x7f4a71fb2710>"
       ]
      }
     ],
     "prompt_number": 6
    },
    {
     "cell_type": "markdown",
     "metadata": {},
     "source": [
      "### Do Bootstrapping for Each Case (Distal and Proximal)"
     ]
    },
    {
     "cell_type": "code",
     "collapsed": false,
     "input": [
      "numBootstraps = 1000\n",
      "\n",
      "### setup inputs class\n",
      "class empty: pass\n",
      "inputs = empty()\n",
      "inputs.useGPU = False\n",
      "ttFilterName = \"./myoimages/newSimpleWTFilter.png\"\n",
      "ttPunishmentName = \"./myoimages/newSimpleWTPunishmentFilter.png\"\n",
      "#ltFilterName = \"./myoimages/LongitudinalFilter.png\"\n",
      "TAFilterName = \"./myoimages/LossFilter.png\"\n",
      "returnAngles = False\n",
      "\n",
      "ttFilter = util.LoadFilter(ttFilterName)\n",
      "TAFilter = util.LoadFilter(TAFilterName)\n",
      "TT_Y,TT_X = util.measureFilterDimensions(ttFilter)\n",
      "TA_Y,TA_X = util.measureFilterDimensions(TAFilter)"
     ],
     "language": "python",
     "metadata": {},
     "outputs": [
      {
       "output_type": "stream",
       "stream": "stdout",
       "text": [
        "filter y,x: 10 19\n",
        "filter y,x: 14 14\n"
       ]
      }
     ],
     "prompt_number": 7
    },
    {
     "cell_type": "markdown",
     "metadata": {},
     "source": [
      "#### Distal Case"
     ]
    },
    {
     "cell_type": "code",
     "collapsed": false,
     "input": [
      "%%capture\n",
      "# ^ turns off print statements for cell\n",
      "\n",
      "verbose = False\n",
      "\n",
      "if runNewBootstraps:\n",
      "    distalTTMeans = []\n",
      "    distalTAMeans = [] \n",
      "    for i in range(numBootstraps):\n",
      "        if i%10 == 0:\n",
      "            print i\n",
      "        bootstrapImg, bootstrapNames = makeBootstrapImg(originalImgDims,subImgDims,bootstrapImgDims,distalImgs)\n",
      "\n",
      "        intermediateTTMeans = []\n",
      "        intermediateTAMeans = []\n",
      "        for i,smallImg in enumerate(bootstrapImg):\n",
      "            name = bootstrapNames[i]\n",
      "            degreesOffCenter = orientationDict[name]\n",
      "\n",
      "            inputs.imgOrig = smallImg\n",
      "\n",
      "            WTiters = [-25,-20,-15,-10,-5,0,5,10,15,20,25] - degreesOffCenter\n",
      "            #TAIters = [-45,0] - degreesOffCenter\n",
      "\n",
      "            WTresults = mF.WT_Filtering(inputs,WTiters,ttFilterName,ttPunishmentName,None,None,returnAngles)\n",
      "            TAresults = mF.Loss_Filtering(inputs,TAFilterName,None,None,returnAngles)\n",
      "\n",
      "            WT_hits = painter.doLabel(WTresults,dx=TT_X,dy=TT_Y,thresh=0)\n",
      "            TA_hits = painter.doLabel(TAresults,dx=TA_X,dy=TA_Y,thresh=0)\n",
      "\n",
      "            ### mask out the WT hits where TA hits are present\n",
      "            WT_hits[TA_hits != 0] = 0\n",
      "\n",
      "            #print np.max(WTresults.stackedHits)\n",
      "            #print np.mean(WTresults.stackedHits)\n",
      "\n",
      "            intermediateTTMeans.append(np.mean(WT_hits))\n",
      "            intermediateTAMeans.append(np.mean(TA_hits))\n",
      "\n",
      "            if verbose:\n",
      "                f,axes = plt.subplots(1,3)\n",
      "                axes[0].imshow(smallImg,cmap='gray')\n",
      "                axes[0].set_title(\"Raw Image\")\n",
      "                axes[1].imshow(WT_hits)\n",
      "                axes[1].set_title(\"WT Hits\")\n",
      "                axes[2].imshow(TA_hits)\n",
      "                axes[2].set_title(\"TA Hits\")\n",
      "\n",
      "                plt.show()\n",
      "        distalTTMeans.append(np.mean(intermediateTTMeans))\n",
      "        distalTAMeans.append(np.mean(intermediateTAMeans))\n",
      "\n",
      "    with open('infarctTissue_distal_TTmeans.pkl','w') as f:\n",
      "        pickle.dump(distalTTMeans,f)\n",
      "\n",
      "    with open('infarctTissue_distal_TAmeans.pkl','w') as f:\n",
      "        pickle.dump(distalTAMeans,f)\n",
      "    \n",
      "    print \"Finished with Distal Bootstrapping\"\n",
      "else:\n",
      "    with open('infarctTissue_distal_TTmeans.pkl','r') as f:\n",
      "        distalTTMeans = pickle.load(f)\n",
      "\n",
      "    with open('infarctTissue_distal_TAmeans.pkl','r') as f:\n",
      "        distalTAMeans = pickle.load(f)"
     ],
     "language": "python",
     "metadata": {},
     "outputs": [],
     "prompt_number": 8
    },
    {
     "cell_type": "markdown",
     "metadata": {},
     "source": [
      "#### Proximal Case"
     ]
    },
    {
     "cell_type": "code",
     "collapsed": false,
     "input": [
      "%%capture\n",
      "# ^ turns off print statements for cell\n",
      "\n",
      "verbose = False\n",
      "\n",
      "if runNewBootstraps:\n",
      "    proximalTTMeans = []\n",
      "    proximalTAMeans = [] \n",
      "    for i in range(numBootstraps):\n",
      "        if i%10 == 0:\n",
      "            print i\n",
      "        bootstrapImg, bootstrapNames = makeBootstrapImg(originalImgDims,subImgDims,bootstrapImgDims,proximalImgs)\n",
      "\n",
      "        intermediateTTMeans = []\n",
      "        intermediateTAMeans = []\n",
      "        for i,smallImg in enumerate(bootstrapImg):\n",
      "            name = bootstrapNames[i]\n",
      "            degreesOffCenter = orientationDict[name]\n",
      "\n",
      "            inputs.imgOrig = smallImg\n",
      "\n",
      "            WTiters = [-25,-20,-15,-10,-5,0,5,10,15,20,25] - degreesOffCenter\n",
      "            #TAIters = [-45,0] - degreesOffCenter\n",
      "\n",
      "            WTresults = mF.WT_Filtering(inputs,WTiters,ttFilterName,ttPunishmentName,None,None,returnAngles)\n",
      "            TAresults = mF.Loss_Filtering(inputs,TAFilterName,None,None,returnAngles)\n",
      "\n",
      "            WT_hits = painter.doLabel(WTresults,dx=TT_X,dy=TT_Y,thresh=0)\n",
      "            TA_hits = painter.doLabel(TAresults,dx=TA_X,dy=TA_Y,thresh=0)\n",
      "\n",
      "            ### mask out the WT hits where TA hits are present\n",
      "            WT_hits[TA_hits != 0] = 0\n",
      "\n",
      "            #print np.max(WTresults.stackedHits)\n",
      "            #print np.mean(WTresults.stackedHits)\n",
      "\n",
      "            intermediateTTMeans.append(np.mean(WT_hits))\n",
      "            intermediateTAMeans.append(np.mean(TA_hits))\n",
      "\n",
      "            if verbose:\n",
      "                f,axes = plt.subplots(1,3)\n",
      "                axes[0].imshow(smallImg,cmap='gray')\n",
      "                axes[0].set_title(\"Raw Image\")\n",
      "                axes[1].imshow(WT_hits)\n",
      "                axes[1].set_title(\"WT Hits\")\n",
      "                axes[2].imshow(TA_hits)\n",
      "                axes[2].set_title(\"TA Hits\")\n",
      "\n",
      "                plt.show()\n",
      "        proximalTTMeans.append(np.mean(intermediateTTMeans))\n",
      "        proximalTAMeans.append(np.mean(intermediateTAMeans))\n",
      "\n",
      "    with open('infarctTissue_proximal_TTmeans.pkl','w') as f:\n",
      "        pickle.dump(proximalTTMeans,f)\n",
      "\n",
      "    with open('infarctTissue_proximal_TAmeans.pkl','w') as f:\n",
      "        pickle.dump(proximalTAMeans,f)\n",
      "        \n",
      "    print \"Finished with Proximal Bootstrapping\"\n",
      "else:\n",
      "    with open('infarctTissue_proximal_TTmeans.pkl','r') as f:\n",
      "        proximalTTMeans = pickle.load(f)\n",
      "\n",
      "    with open('infarctTissue_proximal_TAmeans.pkl','r') as f:\n",
      "        proximalTAMeans = pickle.load(f)"
     ],
     "language": "python",
     "metadata": {},
     "outputs": [],
     "prompt_number": 10
    },
    {
     "cell_type": "markdown",
     "metadata": {},
     "source": [
      "### Display Prelim Results"
     ]
    },
    {
     "cell_type": "code",
     "collapsed": false,
     "input": [
      "TTavgs = {'distal':np.mean(distalTTMeans),\n",
      "          'proximal':np.mean(proximalTTMeans)}\n",
      "TAavgs = {'distal':np.mean(distalTAMeans),\n",
      "          'proximal':np.mean(proximalTAMeans)}\n",
      "\n",
      "print \"Distal Mean TT Detection Mean:\", str(TTavgs['distal']*100.)+'%'\n",
      "print \"Distal Mean TT Detection Standard Deviation:\", str(np.std(distalTTMeans)*100.)+'%'\n",
      "print \"Distal Mean TA Detection Mean:\", str(TAavgs['distal']*100.)+'%'\n",
      "print \"Distal Mean TA Detection Standard Deviation:\", str(np.std(distalTAMeans)*100.)+'%'\n",
      "\n",
      "print \"\"\n",
      "\n",
      "\n",
      "print \"Proximal Mean TT Detection Mean:\", str(TTavgs['proximal']*100.)+'%'\n",
      "print \"Proximal Mean TT Detection Standard Deviation:\", str(np.std(proximalTTMeans)*100.)+'%'\n",
      "print \"Proximal Mean TA Detection Mean:\", str(TAavgs['proximal']*100.)+'%'\n",
      "print \"Proximal Mean TA Detection Standard Deviation:\", str(np.std(proximalTAMeans)*100.)+'%'"
     ],
     "language": "python",
     "metadata": {},
     "outputs": [
      {
       "output_type": "stream",
       "stream": "stdout",
       "text": [
        "Distal Mean TT Detection Mean: 18.93741195%\n",
        "Distal Mean TT Detection Standard Deviation: 1.15189757134%\n",
        "Distal Mean TA Detection Mean: 9.5437475%\n",
        "Distal Mean TA Detection Standard Deviation: 2.16348856326%\n",
        "\n",
        "Proximal Mean TT Detection Mean: 10.115645425%\n",
        "Proximal Mean TT Detection Standard Deviation: 0.826299603213%\n",
        "Proximal Mean TA Detection Mean: 15.9538466%\n",
        "Proximal Mean TA Detection Standard Deviation: 2.0253920434%\n"
       ]
      }
     ],
     "prompt_number": 11
    },
    {
     "cell_type": "markdown",
     "metadata": {},
     "source": [
      "### Compute Difference of Means"
     ]
    },
    {
     "cell_type": "code",
     "collapsed": false,
     "input": [
      "diffTTMeans = np.asarray(distalTTMeans) - np.asarray(proximalTTMeans)\n",
      "rankedDiffTTMeans = np.sort(diffTTMeans) * 100.\n",
      "print np.min(rankedDiffTTMeans),np.max(rankedDiffTTMeans)\n",
      "\n",
      "diffTAMeans = np.asarray(distalTAMeans) - np.asarray(proximalTAMeans)\n",
      "rankedDiffTAMeans = np.sort(diffTAMeans) * 100.\n",
      "print np.min(rankedDiffTAMeans),np.max(rankedDiffTAMeans)"
     ],
     "language": "python",
     "metadata": {},
     "outputs": [
      {
       "output_type": "stream",
       "stream": "stdout",
       "text": [
        "4.478525 14.89715\n",
        "-16.352425 3.203675\n"
       ]
      }
     ],
     "prompt_number": 13
    },
    {
     "cell_type": "markdown",
     "metadata": {},
     "source": [
      "### Find largest confidence interval s.t. the interval does not contain 0"
     ]
    },
    {
     "cell_type": "code",
     "collapsed": false,
     "input": [
      "TTindex = 1\n",
      "while    (np.sign(rankedDiffTTMeans[TTindex]) != np.sign(rankedDiffTTMeans[-TTindex])) \\\n",
      "      or (np.sign(rankedDiffTTMeans[TTindex]) == 0) \\\n",
      "      or (np.sign(rankedDiffTTMeans[-TTindex]) == 0):\n",
      "            \n",
      "    TTindex += 1\n",
      "use005pvalue = True\n",
      "if use005pvalue:\n",
      "    lowerTTValue = rankedDiffTTMeans[25]\n",
      "    upperTTValue = rankedDiffTTMeans[975]\n",
      "else:\n",
      "    lowerTTValue = rankedDiffTTMeans[TTindex]\n",
      "    upperTTValue = rankedDiffTTMeans[-TTindex]\n",
      "lowerTTBound = float(TTindex) / 10.\n",
      "upperTTBound = float(numBootstraps - TTindex) / 10.\n",
      "\n",
      "print \"Lower TT Value (p<0.05):\", lowerTTValue\n",
      "print \"Upper TT Value (p<0.05):\", upperTTValue\n",
      "print \"Largest confidence interval of TT Difference of Means:\"\n",
      "print \"\\t\", str(lowerTTBound)+\"% - \"+str(upperTTBound)+\"%\"\n",
      "print \"p =\",str(lowerTTBound * 2. / 100.)\n",
      "print \"\"\n",
      "\n",
      "\n",
      "TAindex = 1\n",
      "while    (np.sign(rankedDiffTAMeans[TAindex]) != np.sign(rankedDiffTAMeans[-TAindex])) \\\n",
      "      or (np.sign(rankedDiffTAMeans[TAindex]) == 0) \\\n",
      "      or (np.sign(rankedDiffTAMeans[-TAindex]) == 0):\n",
      "            \n",
      "    TAindex += 1\n",
      "    \n",
      "if use005pvalue:\n",
      "    lowerTAValue = rankedDiffTAMeans[25]\n",
      "    upperTAValue = rankedDiffTAMeans[975]\n",
      "else:\n",
      "    lowerTAValue = rankedDiffTAMeans[TAindex]\n",
      "    upperTAValue = rankedDiffTAMeans[-TAindex]\n",
      "lowerTABound = float(TAindex) / 10.\n",
      "upperTABound = float(numBootstraps - TAindex) / 10.\n",
      "\n",
      "print \"Lower TA Value (p<0.05):\", lowerTAValue\n",
      "print \"Upper TA Value (p<0.05):\", upperTAValue\n",
      "print \"Largerst confidence interval of TA Difference of Means:\"\n",
      "print \"\\t\", str(lowerTABound)+\"% - \"+str(upperTABound)+\"%\"\n",
      "print \"p =\",str(lowerTABound * 2. / 100.)"
     ],
     "language": "python",
     "metadata": {},
     "outputs": [
      {
       "output_type": "stream",
       "stream": "stdout",
       "text": [
        "Lower TT Value (p<0.05): 6.134175\n",
        "Upper TT Value (p<0.05): 11.652925\n",
        "Largest confidence interval of TT Difference of Means:\n",
        "\t0.1% - 99.9%\n",
        "p = 0.002\n",
        "\n",
        "Lower TA Value (p<0.05): -11.749325\n",
        "Upper TA Value (p<0.05): -0.0407\n",
        "Largerst confidence interval of TA Difference of Means:\n",
        "\t2.4% - 97.6%\n",
        "p = 0.048\n"
       ]
      }
     ],
     "prompt_number": 14
    },
    {
     "cell_type": "markdown",
     "metadata": {},
     "source": [
      "### Alternate Analysis"
     ]
    },
    {
     "cell_type": "code",
     "collapsed": false,
     "input": [],
     "language": "python",
     "metadata": {},
     "outputs": []
    }
   ],
   "metadata": {}
  }
 ]
}