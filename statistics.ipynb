{
 "cells": [
  {
   "cell_type": "markdown",
   "metadata": {},
   "source": [
    "Notebook to calculate some statistics that will be going into the paper"
   ]
  },
  {
   "cell_type": "code",
   "execution_count": 1,
   "metadata": {
    "collapsed": true
   },
   "outputs": [],
   "source": [
    "import matplotlib.pyplot as plt\n",
    "import numpy as np\n",
    "import scipy.stats as sps"
   ]
  },
  {
   "cell_type": "code",
   "execution_count": 47,
   "metadata": {
    "collapsed": true
   },
   "outputs": [],
   "source": [
    "Sham = {'WT':[.730,.629,.730,.936,.886],\n",
    "        'LT':[.051,.063,.054,.003,.031],\n",
    "        'LD':[.131,.124,.123,.018,.032],\n",
    "        'angle':[40.9,73.0,57.7,66.8,48.6]\n",
    "       }\n",
    "\n",
    "Sham_masked = {'WT':[.838,.629,.833,.951,.886],\n",
    "               'LT':[.021,.063,.063,.003,.031],\n",
    "               'LD':[.073,.124,.068,.005,.032],\n",
    "               'angle':[42.4,73.0,59.6,66.5,48.6]\n",
    "              }\n",
    "\n",
    "MI_D = {'WT':[.532,.756,.389],\n",
    "        'LT':[.093,.064,.063],\n",
    "        'LD':[.173,.026,.140],\n",
    "        'angle':[41.0,54.5,49.4]\n",
    "       }\n",
    "\n",
    "MI_D_masked = {'WT':[.532,.756,.479],\n",
    "               'LT':[.093,.064,.026],\n",
    "               'LD':[.173,.026,.087],\n",
    "               'angle':[41.0,54.5,46.5]\n",
    "              }\n",
    "\n",
    "MI_M = {'WT':[.625,.531,.552],\n",
    "        'LT':[.097,.120,.081],\n",
    "        'LD':[.064,.197,.032],\n",
    "        'angle':[36.1,32.6,42.0]}\n",
    "\n",
    "MI_M_masked = {'WT':[.625,.595,.552],\n",
    "               'LT':[.097,.072,.081],\n",
    "               'LD':[.064,.234,.032],\n",
    "               'angle':[36.1,31.8,42.0]}\n",
    "\n",
    "MI_P = {'WT':[0.500,0.765,0.387],\n",
    "        'LT':[0.091,0.113,0.158],\n",
    "        'LD':[0.177,0.036,0.134],\n",
    "        'angle':[31.2,39.5,32.4]}\n",
    "\n",
    "HF = {'WT':[.167,.365,.030],\n",
    "      'LT':[.049,.060,.030],\n",
    "      'LD':[.292,.279,.550],\n",
    "      'angle':[45.2,38.1,25.0]}"
   ]
  },
  {
   "cell_type": "code",
   "execution_count": 54,
   "metadata": {
    "collapsed": true
   },
   "outputs": [],
   "source": [
    "dicts = {'Sham':Sham, \n",
    "         'MI_D':MI_D, \n",
    "         'MI_M':MI_M, \n",
    "         'MI_P':MI_P, \n",
    "         'HF':HF}\n",
    "dicts_masked = [Sham_masked, MI_D_masked, MI_M_masked, MI_P, HF]"
   ]
  },
  {
   "cell_type": "code",
   "execution_count": 56,
   "metadata": {},
   "outputs": [
    {
     "name": "stdout",
     "output_type": "stream",
     "text": [
      "MI_P\n",
      "\tLT\n",
      "\tmean: 0.1206\n",
      "\tstd: 0.0278\n",
      "\tWT\n",
      "\tmean: 0.5506\n",
      "\tstd: 0.1584\n",
      "\tangle\n",
      "\tmean: 34.366\n",
      "\tstd: 3.6627\n",
      "\tLD\n",
      "\tmean: 0.1156\n",
      "\tstd: 0.0590\n",
      "MI_D\n",
      "\tLT\n",
      "\tmean: 0.0733\n",
      "\tstd: 0.0139\n",
      "\tWT\n",
      "\tmean: 0.559\n",
      "\tstd: 0.1510\n",
      "\tangle\n",
      "\tmean: 48.300\n",
      "\tstd: 5.5659\n",
      "\tLD\n",
      "\tmean: 0.1129\n",
      "\tstd: 0.0629\n",
      "HF\n",
      "\tLT\n",
      "\tmean: 0.0463\n",
      "\tstd: 0.0123\n",
      "\tWT\n",
      "\tmean: 0.1873\n",
      "\tstd: 0.1375\n",
      "\tangle\n",
      "\tmean: 36.1\n",
      "\tstd: 8.3669\n",
      "\tLD\n",
      "\tmean: 0.3736\n",
      "\tstd: 0.1247\n",
      "MI_M\n",
      "\tLT\n",
      "\tmean: 0.0993\n",
      "\tstd: 0.0160\n",
      "\tWT\n",
      "\tmean: 0.5693\n",
      "\tstd: 0.0402\n",
      "\tangle\n",
      "\tmean: 36.9\n",
      "\tstd: 3.8790\n",
      "\tLD\n",
      "\tmean: 0.0976\n",
      "\tstd: 0.0714\n",
      "Sham\n",
      "\tLT\n",
      "\tmean: 0.0404\n",
      "\tstd: 0.0214\n",
      "\tWT\n",
      "\tmean: 0.7822\n",
      "\tstd: 0.1125\n",
      "\tangle\n",
      "\tmean: 57.400\n",
      "\tstd: 11.674\n",
      "\tLD\n",
      "\tmean: 0.0856\n",
      "\tstd: 0.0497\n"
     ]
    }
   ],
   "source": [
    "for name,dictionary in dicts.iteritems():\n",
    "    print name\n",
    "    for name,array in dictionary.copy().iteritems():\n",
    "        print \"\\t\"+name\n",
    "        print \"\\tmean:\",str(np.mean(array))[:6]\n",
    "        print \"\\tstd:\",str(np.std(array))[:6]\n",
    "        #dictionary[name+'_mean'] = np.mean(array)\n",
    "        #dictionary[name+'_std'] = np.std(array)\n",
    "        \n",
    "\n",
    "\n"
   ]
  },
  {
   "cell_type": "code",
   "execution_count": 50,
   "metadata": {},
   "outputs": [
    {
     "name": "stdout",
     "output_type": "stream",
     "text": [
      "{'LT': [0.051, 0.063, 0.054, 0.003, 0.031], 'WT': [0.73, 0.629, 0.73, 0.936, 0.886], 'angle': [40.9, 73.0, 57.7, 66.8, 48.6], 'LD': [0.131, 0.124, 0.123, 0.018, 0.032]}\n"
     ]
    }
   ],
   "source": [
    "print Sham"
   ]
  },
  {
   "cell_type": "markdown",
   "metadata": {},
   "source": [
    "### Non-Masked"
   ]
  },
  {
   "cell_type": "code",
   "execution_count": 51,
   "metadata": {},
   "outputs": [
    {
     "name": "stdout",
     "output_type": "stream",
     "text": [
      "Testing against Sham\n",
      "\n",
      "Sham x MI_M LT p value: 0.0122\n",
      "Sham x MI_P LT p value: 0.0333\n",
      "Sham x MI_M WT p value: 0.0167\n",
      "Sham x HF   WT p value: 0.0096\n",
      "Sham x MI_M angle p value: 0.0219\n",
      "Sham x MI_P angle p value: 0.0138\n",
      "Sham x HF   angle p value: 0.0479\n",
      "\n",
      "Testing MI_D against others\n",
      "\n",
      "MI_D x MI_P angle p value: 0.0499\n"
     ]
    }
   ],
   "source": [
    "#sps.ttest_ind()\n",
    "pValues = {}\n",
    "#test p value for everything against sham\n",
    "print \"Testing against Sham\\n\"\n",
    "for typeFilter,array in Sham.iteritems():\n",
    "    stat, pValue = sps.ttest_ind(array,MI_D[typeFilter],equal_var=False)\n",
    "    if pValue < 0.05:\n",
    "        print \"Sham x MI_D\",typeFilter,\"p value:\", str(pValue)[:6]\n",
    "        pValues['Sham_MI_D_'+typeFilter] = pValue\n",
    "    \n",
    "    stat, pValue = sps.ttest_ind(array,MI_M[typeFilter],equal_var=False)\n",
    "    if pValue < 0.05:\n",
    "        print \"Sham x MI_M\",typeFilter,\"p value:\", str(pValue)[:6]\n",
    "        pValues['Sham_MI_M_'+typeFilter] = pValue\n",
    "    \n",
    "    stat, pValue = sps.ttest_ind(array,MI_P[typeFilter],equal_var=False)\n",
    "    if pValue < 0.05:\n",
    "        print \"Sham x MI_P\",typeFilter,\"p value:\", str(pValue)[:6]\n",
    "        pValues['Sham_MI_P_'+typeFilter] = pValue\n",
    "    \n",
    "    stat, pValue = sps.ttest_ind(array,HF[typeFilter],equal_var=False)\n",
    "    if pValue < 0.05:\n",
    "        print \"Sham x HF  \",typeFilter,\"p value:\", str(pValue)[:6]\n",
    "        pValues['Sham_HF_'+typeFilter] = pValue\n",
    "\n",
    "print \"\\nTesting MI_D against others\\n\"\n",
    "for typeFilter,array in MI_D.iteritems():\n",
    "    stat, pValue = sps.ttest_ind(array,MI_M[typeFilter],equal_var=False)\n",
    "    if pValue < 0.05:\n",
    "        print \"MI_D x MI_M\",typeFilter,\"p value:\", str(pValue)[:6]\n",
    "        pValues['Sham_MI_M_'+typeFilter] = pValue\n",
    "    \n",
    "    stat, pValue = sps.ttest_ind(array,MI_P[typeFilter],equal_var=False)\n",
    "    if pValue < 0.05:\n",
    "        print \"MI_D x MI_P\",typeFilter,\"p value:\", str(pValue)[:6]\n",
    "        pValues['Sham_MI_P_'+typeFilter] = pValue\n",
    "    "
   ]
  },
  {
   "cell_type": "markdown",
   "metadata": {},
   "source": [
    "### Masked"
   ]
  },
  {
   "cell_type": "code",
   "execution_count": 46,
   "metadata": {},
   "outputs": [
    {
     "name": "stdout",
     "output_type": "stream",
     "text": [
      "Testing against Sham\n",
      "\n",
      "Sham x MI_M LT p value: 0.0150\n",
      "Sham x MI_P LT p value: 0.0272\n",
      "Sham x MI_M WT p value: 0.0091\n",
      "Sham x HF   WT p value: 0.0082\n",
      "Sham x MI_M angle p value: 0.0165\n",
      "Sham x MI_P angle p value: 0.0106\n",
      "Sham x HF   angle p value: 0.0422\n",
      "\n",
      "Testing MI_D against others\n",
      "\n"
     ]
    }
   ],
   "source": [
    "#sps.ttest_ind()\n",
    "pValues = {}\n",
    "#test p value for everything against sham\n",
    "print \"Testing against Sham\\n\"\n",
    "for typeFilter,array in Sham_masked.iteritems():\n",
    "    stat, pValue = sps.ttest_ind(array,MI_D_masked[typeFilter],equal_var=False)\n",
    "    if pValue < 0.05:\n",
    "        print \"Sham x MI_D\",typeFilter,\"p value:\", str(pValue)[:6]\n",
    "        pValues['Sham_MI_D_'+typeFilter] = pValue\n",
    "    \n",
    "    stat, pValue = sps.ttest_ind(array,MI_M_masked[typeFilter],equal_var=False)\n",
    "    if pValue < 0.05:\n",
    "        print \"Sham x MI_M\",typeFilter,\"p value:\", str(pValue)[:6]\n",
    "        pValues['Sham_MI_M_'+typeFilter] = pValue\n",
    "    \n",
    "    stat, pValue = sps.ttest_ind(array,MI_P[typeFilter],equal_var=False)\n",
    "    if pValue < 0.05:\n",
    "        print \"Sham x MI_P\",typeFilter,\"p value:\", str(pValue)[:6]\n",
    "        pValues['Sham_MI_P_'+typeFilter] = pValue\n",
    "    \n",
    "    stat, pValue = sps.ttest_ind(array,HF[typeFilter],equal_var=False)\n",
    "    if pValue < 0.05:\n",
    "        print \"Sham x HF  \",typeFilter,\"p value:\", str(pValue)[:6]\n",
    "        pValues['Sham_HF_'+typeFilter] = pValue\n",
    "\n",
    "print \"\\nTesting MI_D against others\\n\"\n",
    "for typeFilter,array in MI_D_masked.iteritems():\n",
    "    stat, pValue = sps.ttest_ind(array,MI_M_masked[typeFilter],equal_var=False)\n",
    "    if pValue < 0.05:\n",
    "        print \"MI_D x MI_M\",typeFilter,\"p value:\", str(pValue)[:6]\n",
    "        pValues['Sham_MI_M_'+typeFilter] = pValue\n",
    "    \n",
    "    stat, pValue = sps.ttest_ind(array,MI_P[typeFilter],equal_var=False)\n",
    "    if pValue < 0.05:\n",
    "        print \"MI_D x MI_P\",typeFilter,\"p value:\", str(pValue)[:6]\n",
    "        pValues['Sham_MI_P_'+typeFilter] = pValue"
   ]
  },
  {
   "cell_type": "markdown",
   "metadata": {},
   "source": [
    "### Now do stats for the tissue comparisons"
   ]
  },
  {
   "cell_type": "code",
   "execution_count": 19,
   "metadata": {},
   "outputs": [],
   "source": [
    "Distal_Bootstrap_Content = np.load(\"Distal_Bootstrap_Content.npy\")\n",
    "Distal_Bootstrap_Angles = np.load(\"Distal_Bootstrap_Angles.npy\")\n",
    "Proximal_Bootstrap_Content = np.load(\"Proximal_Bootstrap_Content.npy\")\n",
    "Proximal_Bootstrap_Angles = np.load(\"Proximal_Bootstrap_Angles.npy\")"
   ]
  },
  {
   "cell_type": "code",
   "execution_count": 20,
   "metadata": {},
   "outputs": [
    {
     "name": "stdout",
     "output_type": "stream",
     "text": [
      "89.7187448717\n",
      "2.69170754546e-255\n"
     ]
    }
   ],
   "source": [
    "stat, pValue = sps.ttest_ind(Distal_Bootstrap_Content,Proximal_Bootstrap_Content,equal_var=False)\n",
    "print stat\n",
    "print pValue"
   ]
  },
  {
   "cell_type": "code",
   "execution_count": 21,
   "metadata": {},
   "outputs": [
    {
     "name": "stdout",
     "output_type": "stream",
     "text": [
      "86.134435351\n",
      "5.5027009636e-278\n"
     ]
    }
   ],
   "source": [
    "stat, pValue = sps.ttest_ind(Distal_Bootstrap_Angles,Proximal_Bootstrap_Angles,equal_var=False)\n",
    "print stat\n",
    "print pValue"
   ]
  },
  {
   "cell_type": "code",
   "execution_count": 22,
   "metadata": {},
   "outputs": [
    {
     "name": "stdout",
     "output_type": "stream",
     "text": [
      "[ 0.28390313  0.29078906  0.23402344  0.27380625  0.24105937  0.25331406\n",
      "  0.2852125   0.26896719  0.271775    0.308725    0.29379375  0.25507813\n",
      "  0.27150625  0.24387813  0.30394219  0.2484125   0.26770156  0.26026406\n",
      "  0.26485625  0.26012969  0.26625156  0.24994687  0.23541094  0.29730313\n",
      "  0.27294531  0.26528906  0.27979219  0.29816562  0.29016406  0.27360313\n",
      "  0.27784062  0.27546406  0.23014844  0.25580625  0.27180781  0.24614531\n",
      "  0.25654531  0.26660938  0.25356719  0.25639687  0.25218438  0.23782969\n",
      "  0.29445     0.25864844  0.28925781  0.28623906  0.27532344  0.2837375\n",
      "  0.31960937  0.24322969  0.26129062  0.26372187  0.28480937  0.24903906\n",
      "  0.27327031  0.26047188  0.28349219  0.24406563  0.27716562  0.29749687\n",
      "  0.27072812  0.29695625  0.26332344  0.26123594  0.27527344  0.25288125\n",
      "  0.28893281  0.276525    0.26620156  0.26192031  0.30668906  0.26671875\n",
      "  0.25698906  0.2626375   0.29178125  0.28301875  0.26859844  0.24199844\n",
      "  0.2686375   0.23799063  0.29015313  0.24935469  0.25790937  0.27510313\n",
      "  0.2448875   0.27425     0.27934063  0.27879062  0.23430469  0.32780625\n",
      "  0.27210937  0.28332188  0.28639531  0.22387812  0.23867969  0.27793438\n",
      "  0.25029219  0.26675469  0.24145625  0.29830625  0.27226875  0.27530312\n",
      "  0.26921094  0.26512187  0.27677969  0.276975    0.23985937  0.25461406\n",
      "  0.25856406  0.2657125   0.23382969  0.27594531  0.27252969  0.24673906\n",
      "  0.25445312  0.25770781  0.27949375  0.28493906  0.27684844  0.24962031\n",
      "  0.24887656  0.26295313  0.27623438  0.31265625  0.27720469  0.28408906\n",
      "  0.26956719  0.2458125   0.24283906  0.251425    0.29331719  0.22937969\n",
      "  0.26936562  0.29253438  0.28492656  0.27503906  0.28042813  0.28055312\n",
      "  0.29076719  0.27184063  0.26022031  0.26888281  0.27753125  0.26150469\n",
      "  0.26053437  0.30285     0.27068281  0.26624844  0.28967656  0.26824375\n",
      "  0.23096719  0.25240781  0.27612187  0.25387031  0.25921563  0.25662344\n",
      "  0.27323594  0.25809219  0.30047656  0.28079688  0.27100781  0.27435937\n",
      "  0.27328281  0.25202031  0.26242031  0.26898437  0.27690938  0.24161094\n",
      "  0.29529844  0.25086094  0.28194531  0.25216094  0.22816562  0.246875\n",
      "  0.27415625  0.2736125   0.241325    0.26033438  0.24877187  0.22231719\n",
      "  0.26896875  0.25471406  0.26071875  0.24680937  0.2966625   0.28159687\n",
      "  0.24950781  0.27024844  0.27941563  0.3018      0.28315625  0.27297344\n",
      "  0.3019875   0.25568594  0.25917812  0.26788281  0.29898437  0.27246875\n",
      "  0.27354062  0.26429375  0.25164531  0.27064531  0.27003437  0.24347188\n",
      "  0.28920469  0.22930625  0.27876094  0.25384375  0.26228125  0.2777625\n",
      "  0.27511875  0.24849063  0.26214688  0.27972344  0.25220156  0.24799531\n",
      "  0.25339844  0.24276094  0.23763906  0.26462812  0.28103281  0.27482812\n",
      "  0.28954687  0.24281719  0.29213906  0.25180313  0.25165     0.25274062\n",
      "  0.30135781  0.28504063  0.30138437  0.28205938  0.23642188  0.31214375\n",
      "  0.27652813  0.27253125  0.26455156  0.24820313  0.27915469  0.27135625\n",
      "  0.27700625  0.30600312  0.24874844  0.29826094  0.28169375  0.2450375\n",
      "  0.27989219  0.2622875   0.28294531  0.27365   ]\n",
      "[ 0.1459125   0.1668875   0.14191719  0.13003906  0.13353438  0.14639844\n",
      "  0.14445469  0.13893906  0.15402969  0.14073281  0.13192031  0.1527875\n",
      "  0.15577969  0.14483125  0.15692344  0.12792813  0.13952656  0.13720781\n",
      "  0.15908125  0.14346875  0.14623281  0.14677656  0.13366719  0.15657344\n",
      "  0.13371563  0.15746094  0.14902969  0.13665781  0.14282031  0.14975313\n",
      "  0.13555781  0.13884375  0.14659219  0.14685313  0.15273906  0.1377875\n",
      "  0.16104844  0.13677656  0.13248594  0.15174688  0.15215781  0.14599531\n",
      "  0.13628906  0.1327625   0.137225    0.15040156  0.136275    0.15219375\n",
      "  0.15379063  0.1513875   0.13710312  0.12088906  0.16314375  0.142225\n",
      "  0.1555375   0.13978906  0.14874375  0.14091094  0.14610313  0.14461094\n",
      "  0.13430156  0.14743281  0.13703281  0.14008906  0.13544375  0.155175\n",
      "  0.15010156  0.13620313  0.14506875  0.14275     0.15079844  0.1378125\n",
      "  0.1515125   0.15363906  0.12915313  0.1343625   0.15201875  0.15550469\n",
      "  0.14206406  0.14313906  0.14221406  0.14289375  0.13747813  0.11655781\n",
      "  0.14872188  0.1344625   0.16299844  0.14653281  0.15393281  0.16067188\n",
      "  0.12505469  0.12759687  0.15895156  0.13827656  0.13539531  0.1627\n",
      "  0.14406406  0.13435313  0.12263437  0.13180313  0.14212344  0.15174063\n",
      "  0.14665156  0.14150313  0.15229844  0.13915156  0.14008281  0.15614375\n",
      "  0.14893125  0.130125    0.13083906  0.15282031  0.14377813  0.15060781\n",
      "  0.14251875  0.14305313  0.148025    0.15482031  0.13631094  0.13451094\n",
      "  0.15919375  0.13352969  0.14798125  0.15224219  0.14983438  0.15087187\n",
      "  0.14484063  0.16123594  0.14066094  0.1495875   0.13420469  0.16003125\n",
      "  0.15782344  0.17254375  0.1555625   0.15549375  0.13819531  0.15181406\n",
      "  0.13862656  0.14759531  0.13536094  0.15230937  0.15092969  0.15053125\n",
      "  0.14743594  0.148425    0.13300625  0.15056719  0.13373906  0.14956719\n",
      "  0.15195     0.15940781  0.1360375   0.14995156  0.16651406  0.1601875\n",
      "  0.14706875  0.1350875   0.15223594  0.1588125   0.1440625   0.14966875\n",
      "  0.13587969  0.13947813  0.14884844  0.16216562  0.15212031  0.17409531\n",
      "  0.15579063  0.1434875   0.14670781  0.14057031  0.13811719  0.144075\n",
      "  0.144675    0.14888125  0.13659062  0.15192969  0.15774375  0.15349219\n",
      "  0.13636094  0.11980313  0.12739687  0.141825    0.14130156  0.1437\n",
      "  0.13118594  0.13604688  0.16157812  0.15942344  0.13969531  0.15219844\n",
      "  0.14031562  0.14304531  0.15634687  0.13665625  0.13575469  0.12339219\n",
      "  0.13352188  0.15828281  0.13741875  0.14621563  0.16067188  0.15164063\n",
      "  0.15333906  0.16123125  0.14153594  0.1487875   0.14171563  0.14662656\n",
      "  0.13749375  0.14289844  0.13232344  0.14428594  0.15182656  0.15870937\n",
      "  0.15326875  0.13248437  0.15134219  0.14159219  0.13891562  0.14763281\n",
      "  0.14785625  0.16210625  0.14260156  0.13347031  0.13310312  0.13232031\n",
      "  0.13953594  0.16481719  0.13892813  0.15165469  0.14084219  0.14499531\n",
      "  0.16506875  0.14352969  0.15515937  0.156425    0.13946875  0.13612969\n",
      "  0.15937031  0.13530469  0.14586406  0.13717031  0.13474531  0.15373437\n",
      "  0.13330781  0.14581406  0.15050469  0.15247031]\n"
     ]
    }
   ],
   "source": [
    "print Distal_Bootstrap_Content\n",
    "print Proximal_Bootstrap_Content"
   ]
  },
  {
   "cell_type": "code",
   "execution_count": null,
   "metadata": {},
   "outputs": [],
   "source": []
  }
 ],
 "metadata": {
  "kernelspec": {
   "display_name": "Python 3",
   "language": "python",
   "name": "python3"
  },
  "language_info": {
   "codemirror_mode": {
    "name": "ipython",
    "version": 3
   },
   "file_extension": ".py",
   "mimetype": "text/x-python",
   "name": "python",
   "nbconvert_exporter": "python",
   "pygments_lexer": "ipython3",
   "version": "3.7.3"
  }
 },
 "nbformat": 4,
 "nbformat_minor": 2
}
